{
 "cells": [
  {
   "cell_type": "markdown",
   "id": "8adccfac",
   "metadata": {},
   "source": [
    "# 1. Create a function in python to read the text file and replace specific content of the file."
   ]
  },
  {
   "cell_type": "code",
   "execution_count": 30,
   "id": "ee785491",
   "metadata": {},
   "outputs": [],
   "source": [
    "import os\n",
    "from pathlib2 import Path"
   ]
  },
  {
   "cell_type": "code",
   "execution_count": 74,
   "id": "5d221293",
   "metadata": {},
   "outputs": [],
   "source": [
    "def search_replace_text(find_txt, replace_txt):\n",
    "    # open read the file data\n",
    "    with open('example.txt','r+') as file:\n",
    "        data = file.read()\n",
    "        \n",
    "        # search & replace the data\n",
    "        data = data.replace(find_txt,replace_txt)\n",
    "    \n",
    "    # Write the updated text in the file \n",
    "    with open('example.txt','w') as file:\n",
    "        file.write(data)\n",
    "    return print(\"File is update\")\n"
   ]
  },
  {
   "cell_type": "code",
   "execution_count": 75,
   "id": "fafaa7de",
   "metadata": {},
   "outputs": [
    {
     "name": "stdout",
     "output_type": "stream",
     "text": [
      "File is update\n"
     ]
    }
   ],
   "source": [
    "search_replace_text(\"placement\",\"screening\") "
   ]
  },
  {
   "cell_type": "markdown",
   "id": "a2a2880d",
   "metadata": {},
   "source": [
    "# 2. Demonstrate use of abstract class, multiple inheritance and decorator in python using examples."
   ]
  },
  {
   "cell_type": "code",
   "execution_count": 41,
   "id": "bb3d56a1",
   "metadata": {},
   "outputs": [],
   "source": [
    "from abc import ABC, abstractmethod\n",
    "\n",
    "# Creating abstraction class \n",
    "class car_transmission(ABC):\n",
    "    @abstractmethod # using abstraction method as decorator\n",
    "    def transmission(Self):\n",
    "        pass        \n"
   ]
  },
  {
   "cell_type": "code",
   "execution_count": 42,
   "id": "a15bd53e",
   "metadata": {},
   "outputs": [],
   "source": [
    "class car():\n",
    "    def __init__(self, doors, windows, enginetype):\n",
    "        self.doors = doors\n",
    "        self.windows = windows\n",
    "        self.enginetype = enginetype        \n",
    "            \n",
    "    def fuel_type(self):\n",
    "        if self.enginetype == 'petrol':\n",
    "            print('its petrol car')\n",
    "        elif self.enginetype == 'CNG':\n",
    "            print('its petrol and CNG car')\n",
    "        elif self.enginetype == 'Diesel':\n",
    "            print('its diesel car')\n",
    "        else:\n",
    "            print('this is a Electric car')"
   ]
  },
  {
   "cell_type": "code",
   "execution_count": 68,
   "id": "e8e9682f",
   "metadata": {},
   "outputs": [],
   "source": [
    "# Inheriting multiple class & using of abstraction\n",
    "class mercedes(car,car_transmission):\n",
    "    def __init__(self,doors, windows, enginetype, AIEnable, transmission_type):\n",
    "        super().__init__(doors, windows, enginetype)\n",
    "        self.AIEnable = AIEnable\n",
    "        self.doors = doors\n",
    "        self.transmission_type = transmission_type        \n",
    "        \n",
    "    def transmission(self):\n",
    "        print(\"This is a {transmission} car\".format(transmission = self.transmission_type))\n",
    "        \n",
    "    def IsthisAIEnabled(self):\n",
    "        if self.AIEnable == True:\n",
    "            print('Yes, this is a AI enabled car')\n",
    "        else:\n",
    "            print('No, its not AI enabled')\n",
    "            \n"
   ]
  },
  {
   "cell_type": "code",
   "execution_count": 79,
   "id": "96272b99",
   "metadata": {},
   "outputs": [],
   "source": [
    "# Inheriting multiple class & using of abstraction\n",
    "class Maruti(car,car_transmission):\n",
    "    def __init__(self,doors, windows, enginetype, AIEnable, transmission_type):\n",
    "        super().__init__(doors, windows, enginetype)\n",
    "        self.AIEnable = AIEnable\n",
    "        self.doors = doors\n",
    "        self.transmission_type = transmission_type        \n",
    "        \n",
    "    def transmission(self):\n",
    "        print(\"This is a {transmission} car\".format(transmission = self.transmission_type))\n",
    "        \n",
    "    def IsthisAIEnabled(self):\n",
    "        if self.AIEnable == True:\n",
    "            print('Yes, this is a AI enabled car')\n",
    "        else:\n",
    "            print('No, its not AI enabled')\n",
    "            "
   ]
  },
  {
   "cell_type": "code",
   "execution_count": 69,
   "id": "2b7798c2",
   "metadata": {},
   "outputs": [],
   "source": [
    "Mercedes_Q7 = mercedes(5, 4,\"Petrol\", True, \"AMT\")"
   ]
  },
  {
   "cell_type": "code",
   "execution_count": 70,
   "id": "57399849",
   "metadata": {},
   "outputs": [
    {
     "name": "stdout",
     "output_type": "stream",
     "text": [
      "This is a AMT car\n"
     ]
    }
   ],
   "source": [
    "Mercedes_Q7.transmission()"
   ]
  },
  {
   "cell_type": "code",
   "execution_count": 71,
   "id": "8dc5d989",
   "metadata": {},
   "outputs": [
    {
     "name": "stdout",
     "output_type": "stream",
     "text": [
      "yes this is a AI enabled car\n"
     ]
    }
   ],
   "source": [
    "Mercedes_Q7.IsthisAIEnabled()"
   ]
  },
  {
   "cell_type": "code",
   "execution_count": 80,
   "id": "3ba7c2e6",
   "metadata": {},
   "outputs": [],
   "source": [
    "MarutiWagnor = Maruti(4, 4,\"CNG\", False, \"Manuel\")"
   ]
  },
  {
   "cell_type": "code",
   "execution_count": 81,
   "id": "1a6be710",
   "metadata": {},
   "outputs": [
    {
     "name": "stdout",
     "output_type": "stream",
     "text": [
      "This is a Manuel car\n"
     ]
    }
   ],
   "source": [
    "MarutiWagnor.transmission()"
   ]
  },
  {
   "cell_type": "code",
   "execution_count": 83,
   "id": "4af34baa",
   "metadata": {},
   "outputs": [
    {
     "name": "stdout",
     "output_type": "stream",
     "text": [
      "its petrol and CNG car\n"
     ]
    }
   ],
   "source": [
    "MarutiWagnor.fuel_type()"
   ]
  }
 ],
 "metadata": {
  "kernelspec": {
   "display_name": "Python 3",
   "language": "python",
   "name": "python3"
  },
  "language_info": {
   "codemirror_mode": {
    "name": "ipython",
    "version": 3
   },
   "file_extension": ".py",
   "mimetype": "text/x-python",
   "name": "python",
   "nbconvert_exporter": "python",
   "pygments_lexer": "ipython3",
   "version": "3.8.8"
  }
 },
 "nbformat": 4,
 "nbformat_minor": 5
}
